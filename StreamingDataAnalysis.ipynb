{
  "cells": [
    {
      "cell_type": "markdown",
      "metadata": {
        "id": "GdMZR-9QTwG3"
      },
      "source": [
        "# **Initiate and Configure Spark Streaming [5 marks]**\n",
        "\n",
        "---\n"
      ]
    },
    {
      "cell_type": "code",
      "execution_count": null,
      "metadata": {
        "id": "9o3z1miCHBg1",
        "outputId": "2b4bb0bd-bbf8-4a0d-bdbe-5675e8fdcd2d"
      },
      "outputs": [
        {
          "name": "stdout",
          "output_type": "stream",
          "text": [
            "Requirement already satisfied: findspark in /Users/tofii/anaconda3/lib/python3.7/site-packages (2.0.1)\r\n"
          ]
        }
      ],
      "source": [
        "# Load Spark engine\n",
        "!pip3 install findspark\n",
        "import findspark\n",
        "findspark.init()"
      ]
    },
    {
      "cell_type": "code",
      "execution_count": null,
      "metadata": {
        "id": "_z0p88Xtw_3-"
      },
      "outputs": [],
      "source": [
        "from pyspark import SparkContext\n",
        "from pyspark.streaming import StreamingContext\n",
        "\n",
        "# Create a local StreamingContext with two working thread and batch interval of 1 second\n",
        "sc = SparkContext(\"local[2]\", \"Group_27\")\n",
        "\n",
        "# Control log Level, including ALL, DEBUG, ERROR, FATAL, INFO, OFF, TRACE, WARN\n",
        "sc.setLogLevel(\"ERROR\")\n",
        "\n",
        "ssc = StreamingContext(sc, 1)\n",
        "ssc.checkpoint(\"checkpoint\")"
      ]
    },
    {
      "cell_type": "markdown",
      "metadata": {
        "id": "wHft1Jht1Qxl"
      },
      "source": [
        "\n",
        "# **Task - Data Streaming using PySpark [25 marks]**\n",
        "\n",
        "---\n"
      ]
    },
    {
      "cell_type": "markdown",
      "metadata": {
        "id": "ws6OKzmuHBg7"
      },
      "source": [
        "### Task-1: Count the number of words with the length of 5 or more in the odd-numbered lines"
      ]
    },
    {
      "cell_type": "code",
      "execution_count": null,
      "metadata": {
        "id": "DaRqC9zeHBg8"
      },
      "outputs": [],
      "source": [
        "lines = ssc.socketTextStream(\"localhost\", 7000)\n",
        "# open cmd and type: nc -lk 7000"
      ]
    },
    {
      "cell_type": "code",
      "execution_count": null,
      "metadata": {
        "id": "OcZfiIcq1Qxn",
        "scrolled": true
      },
      "outputs": [],
      "source": [
        "# grab only odd numbered lines\n",
        "counts = lines.flatMap(lambda para: para.split(\".\")[1::2]) \\\n",
        "                .flatMap(lambda line: line.split(\" \")) \\\n",
        "                .filter(lambda word: len(word)>=5) \\\n",
        "                .map(lambda word: (word,1)) \\\n",
        "                .reduceByKey(lambda a,b: a+b)\n",
        "\n",
        "counts.window(10, 5).pprint()"
      ]
    },
    {
      "cell_type": "code",
      "execution_count": null,
      "metadata": {
        "id": "5N2R44sDHBg-",
        "outputId": "8ee33f09-6f7f-4c13-f1a5-11dd67058908"
      },
      "outputs": [
        {
          "name": "stdout",
          "output_type": "stream",
          "text": [
            "-------------------------------------------\n",
            "Time: 2022-04-18 17:03:16\n",
            "-------------------------------------------\n",
            "\n",
            "-------------------------------------------\n",
            "Time: 2022-04-18 17:03:21\n",
            "-------------------------------------------\n",
            "\n",
            "-------------------------------------------\n",
            "Time: 2022-04-18 17:03:26\n",
            "-------------------------------------------\n",
            "\n",
            "-------------------------------------------\n",
            "Time: 2022-04-18 17:03:31\n",
            "-------------------------------------------\n",
            "('Bearing', 1)\n",
            "('analytics', 2)\n",
            "('reached', 1)\n",
            "('large', 1)\n",
            "('chunk', 1)\n",
            "('future,', 1)\n",
            "('real-time', 2)\n",
            "('result', 1)\n",
            "('billions', 1)\n",
            "('primary', 1)\n",
            "...\n",
            "\n",
            "-------------------------------------------\n",
            "Time: 2022-04-18 17:03:36\n",
            "-------------------------------------------\n",
            "('Bearing', 1)\n",
            "('analytics', 2)\n",
            "('reached', 1)\n",
            "('large', 1)\n",
            "('chunk', 1)\n",
            "('future,', 1)\n",
            "('real-time', 2)\n",
            "('result', 1)\n",
            "('billions', 1)\n",
            "('primary', 1)\n",
            "...\n",
            "\n"
          ]
        }
      ],
      "source": [
        "# Start the computation\n",
        "ssc.start()"
      ]
    },
    {
      "cell_type": "code",
      "execution_count": null,
      "metadata": {
        "id": "PdiMwfGfHBg_"
      },
      "outputs": [],
      "source": [
        "ssc.stop(stopSparkContext=True, stopGraceFully=True)"
      ]
    },
    {
      "cell_type": "markdown",
      "metadata": {
        "id": "t-0Wjsz_HBg_"
      },
      "source": [
        "### Task-2: Count only digits"
      ]
    },
    {
      "cell_type": "code",
      "execution_count": null,
      "metadata": {
        "id": "wn4FszefHBhA"
      },
      "outputs": [],
      "source": [
        "# Create a local StreamingContext with two working thread and batch interval of 1 second\n",
        "sc = SparkContext(\"local[2]\", \"Group_27\")\n",
        "\n",
        "# Control log Level, including ALL, DEBUG, ERROR, FATAL, INFO, OFF, TRACE, WARN\n",
        "sc.setLogLevel(\"ERROR\")\n",
        "\n",
        "ssc = StreamingContext(sc, 1)\n",
        "ssc.checkpoint(\"checkpoint\")"
      ]
    },
    {
      "cell_type": "code",
      "execution_count": null,
      "metadata": {
        "id": "R8KD_uL0HBhB"
      },
      "outputs": [],
      "source": [
        "lines = ssc.socketTextStream(\"localhost\", 7000)\n",
        "# open cmd and type: nc -lk 7000"
      ]
    },
    {
      "cell_type": "code",
      "execution_count": null,
      "metadata": {
        "id": "eX8rBHq8HBhC"
      },
      "outputs": [],
      "source": [
        "import re\n",
        "# digits\n",
        "digits = lines.map(lambda para: len(re.sub(\"[^0-9]\", \"\", para)))\n",
        "\n",
        "digits.window(10, 5).pprint()"
      ]
    },
    {
      "cell_type": "code",
      "execution_count": null,
      "metadata": {
        "id": "XnUSYS-cHBhD",
        "outputId": "4d3dbbf9-ffa8-4086-bc2c-bcd99e838c2c"
      },
      "outputs": [
        {
          "name": "stdout",
          "output_type": "stream",
          "text": [
            "-------------------------------------------\n",
            "Time: 2022-04-18 17:04:53\n",
            "-------------------------------------------\n",
            "\n",
            "-------------------------------------------\n",
            "Time: 2022-04-18 17:04:58\n",
            "-------------------------------------------\n",
            "\n",
            "-------------------------------------------\n",
            "Time: 2022-04-18 17:05:03\n",
            "-------------------------------------------\n",
            "\n",
            "-------------------------------------------\n",
            "Time: 2022-04-18 17:05:08\n",
            "-------------------------------------------\n",
            "7\n",
            "\n",
            "-------------------------------------------\n",
            "Time: 2022-04-18 17:05:13\n",
            "-------------------------------------------\n",
            "7\n",
            "\n",
            "-------------------------------------------\n",
            "Time: 2022-04-18 17:05:18\n",
            "-------------------------------------------\n",
            "\n",
            "-------------------------------------------\n",
            "Time: 2022-04-18 17:05:23\n",
            "-------------------------------------------\n",
            "\n",
            "-------------------------------------------\n",
            "Time: 2022-04-18 17:05:28\n",
            "-------------------------------------------\n",
            "\n"
          ]
        }
      ],
      "source": [
        "# Start the computation\n",
        "ssc.start()"
      ]
    },
    {
      "cell_type": "code",
      "execution_count": null,
      "metadata": {
        "id": "PBlANDXXHBhE"
      },
      "outputs": [],
      "source": [
        "ssc.stop(stopSparkContext=True, stopGraceFully=True)"
      ]
    }
  ],
  "metadata": {
    "colab": {
      "collapsed_sections": [
        "Lx9-Fre4FMda"
      ],
      "name": "StreamingDataAnalysis.ipynb",
      "provenance": []
    },
    "kernelspec": {
      "display_name": "Python 3",
      "language": "python",
      "name": "python3"
    },
    "language_info": {
      "codemirror_mode": {
        "name": "ipython",
        "version": 3
      },
      "file_extension": ".py",
      "mimetype": "text/x-python",
      "name": "python",
      "nbconvert_exporter": "python",
      "pygments_lexer": "ipython3",
      "version": "3.8.3"
    }
  },
  "nbformat": 4,
  "nbformat_minor": 0
}